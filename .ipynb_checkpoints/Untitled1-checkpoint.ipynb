{
 "metadata": {
  "name": "",
  "signature": "sha256:b436f841053d4fe953ebac94f4dd8932773c609d14e8e259ebf8d4f4038e31d5"
 },
 "nbformat": 3,
 "nbformat_minor": 0,
 "worksheets": []
}