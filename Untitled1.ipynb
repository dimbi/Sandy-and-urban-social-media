{
 "metadata": {
  "name": "",
  "signature": "sha256:dab1c8e6e1f86bd79d2a63cf1d9e8adf7a8f6023403fb103cfe520d59eac1b68"
 },
 "nbformat": 3,
 "nbformat_minor": 0,
 "worksheets": [
  {
   "cells": [
    {
     "cell_type": "code",
     "collapsed": false,
     "input": [
      "A = ['a','aaaaaaaav','cdea']\n",
      "\n",
      "len_dict = {}\n",
      "for word in A:\n",
      "    len_dict[word] = len(word)\n",
      "sorted_word = sorted(len_dict.iteritems(), key = lambda x: -x[1]) \n",
      "count = 0\n",
      "\n",
      "print sorted_word[1][0]"
     ],
     "language": "python",
     "metadata": {},
     "outputs": [
      {
       "output_type": "stream",
       "stream": "stdout",
       "text": [
        "cdea\n",
        "cdea\n"
       ]
      }
     ],
     "prompt_number": 2
    }
   ],
   "metadata": {}
  }
 ]
}